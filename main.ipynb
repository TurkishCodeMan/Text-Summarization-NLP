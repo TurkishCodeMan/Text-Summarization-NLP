{
 "cells": [
  {
   "cell_type": "markdown",
   "metadata": {},
   "source": [
    "##  TEXT SUMMARIZATION\n",
    "\n",
    "1- Introduction & Github Repo Setup\n",
    "\n",
    "\n",
    "2-Project Template- Creation\n",
    "\n",
    "\n",
    "3-Project Setup - Requirements Installation\n",
    "\n",
    "\n",
    "4-Logging,Utils & Exception Module\n",
    "\n",
    "\n",
    "5-Project Workflows\n",
    "\n",
    "\n",
    "6-All Components Notebook Experiment\n",
    "\n",
    "\n",
    "7-All Components Modular Code Implementation\n",
    "\n",
    "\n",
    "8-Training Pipeline\n",
    "\n",
    "\n",
    "9-Prediction Pipeline & User App Creation\n",
    "\n",
    "\n",
    "10-Final CI/CD Deployment AWS"
   ]
  },
  {
   "cell_type": "code",
   "execution_count": null,
   "metadata": {},
   "outputs": [],
   "source": [
    "## TEXT SUMMARIZATION\n",
    "\n"
   ]
  }
 ],
 "metadata": {
  "kernelspec": {
   "display_name": ".venv",
   "language": "python",
   "name": "python3"
  },
  "language_info": {
   "name": "python",
   "version": "3.12.0"
  }
 },
 "nbformat": 4,
 "nbformat_minor": 2
}
